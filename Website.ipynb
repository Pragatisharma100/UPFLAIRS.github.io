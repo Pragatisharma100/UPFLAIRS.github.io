{
 "cells": [
  {
   "cell_type": "code",
   "execution_count": 2,
   "metadata": {},
   "outputs": [],
   "source": [
    "# WEBSITE BUILDING\n",
    "# MODEL BUILDING\n",
    "# DATA MANAGE\n",
    "# TWO WAYS COMMUNICATION ARE NOT POSSIBLE BETWEEEN     \n",
    "# BACKEND THROUGH PYTHON(LIBRARY NAMED FLASK)\n",
    "# FLASK IS A WEB FRAMEWORK\n",
    "# FRAMEWORK IS A CLASS IN WHICH WE HAVE PREDEFINED MULTIPLE CLASS ,MODULES,\n",
    "# STATIC \n",
    "# TEMPLATE-HTML\n",
    "# APP"
   ]
  },
  {
   "cell_type": "code",
   "execution_count": null,
   "metadata": {},
   "outputs": [],
   "source": []
  }
 ],
 "metadata": {
  "kernelspec": {
   "display_name": "Python 3",
   "language": "python",
   "name": "python3"
  },
  "language_info": {
   "codemirror_mode": {
    "name": "ipython",
    "version": 3
   },
   "file_extension": ".py",
   "mimetype": "text/x-python",
   "name": "python",
   "nbconvert_exporter": "python",
   "pygments_lexer": "ipython3",
   "version": "3.12.2"
  }
 },
 "nbformat": 4,
 "nbformat_minor": 2
}
