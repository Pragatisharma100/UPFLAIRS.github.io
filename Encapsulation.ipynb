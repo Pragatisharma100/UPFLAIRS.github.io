{
 "cells": [
  {
   "cell_type": "code",
   "execution_count": null,
   "metadata": {},
   "outputs": [],
   "source": [
    "### Encapsulation"
   ]
  },
  {
   "cell_type": "code",
   "execution_count": 4,
   "metadata": {},
   "outputs": [],
   "source": [
    "class Manager:\n",
    "    def __init__(self):\n",
    "        self.manager_name = \"Dharampal singh\"\n",
    "        self.manager_id=\"hello@gmail.com\"\n",
    "        self.manager__pass=\"kumar786\"\n",
    "\n",
    "        self.empolyee_name=\"vikas\"\n",
    "        self.empolyee_id =\"vikaskumavat@gmail.com\"\n",
    "        self.empolyee__pass=\"kumavat\"\n",
    "        print(\"manager constructor executed\")\n",
    "\n",
    "    def Manager_hii(self):\n",
    "        print(self.manager_name)\n",
    "        print(self.manager_id)\n",
    "        print(self.manager__pass)\n",
    "\n",
    "class Empolyee(Manager):\n",
    "    # def __init__(self):\n",
    "    #     pass\n",
    "    def Empolyee_hii():\n",
    "        pass\n"
   ]
  },
  {
   "cell_type": "code",
   "execution_count": 22,
   "metadata": {},
   "outputs": [
    {
     "name": "stdout",
     "output_type": "stream",
     "text": [
      "manager constructor executed\n",
      "manager constructor executed\n"
     ]
    }
   ],
   "source": [
    "emp_obj =Empolyee()\n",
    "mng_obj=Manager()"
   ]
  },
  {
   "cell_type": "code",
   "execution_count": 6,
   "metadata": {},
   "outputs": [
    {
     "data": {
      "text/plain": [
       "'vikas'"
      ]
     },
     "execution_count": 6,
     "metadata": {},
     "output_type": "execute_result"
    }
   ],
   "source": [
    "emp_obj.empolyee_name"
   ]
  },
  {
   "cell_type": "code",
   "execution_count": 8,
   "metadata": {},
   "outputs": [
    {
     "data": {
      "text/plain": [
       "'kumavat'"
      ]
     },
     "execution_count": 8,
     "metadata": {},
     "output_type": "execute_result"
    }
   ],
   "source": [
    "emp_obj.empolyee_id\n",
    "emp_obj.empolyee__pass"
   ]
  },
  {
   "cell_type": "code",
   "execution_count": 9,
   "metadata": {},
   "outputs": [
    {
     "data": {
      "text/plain": [
       "'kumavat'"
      ]
     },
     "execution_count": 9,
     "metadata": {},
     "output_type": "execute_result"
    }
   ],
   "source": [
    "emp_obj.empolyee__pass"
   ]
  },
  {
   "cell_type": "code",
   "execution_count": 10,
   "metadata": {},
   "outputs": [
    {
     "data": {
      "text/plain": [
       "'hello@gmail.com'"
      ]
     },
     "execution_count": 10,
     "metadata": {},
     "output_type": "execute_result"
    }
   ],
   "source": [
    "emp_obj.manager_id"
   ]
  },
  {
   "cell_type": "code",
   "execution_count": null,
   "metadata": {},
   "outputs": [],
   "source": [
    "# TYPES OF VARIABLES....\n",
    "# private  (it can access within a class not outside the class)\n",
    "# public\n",
    "# protected\n",
    "# protected variable are access everywhere(even outside and in a subclass)\n",
    "# method can also be public, private, protected"
   ]
  },
  {
   "cell_type": "code",
   "execution_count": 17,
   "metadata": {},
   "outputs": [],
   "source": [
    "# PROTECTED \n",
    "class Manager:\n",
    "\n",
    "    # public variables\n",
    "    def __init__(self):\n",
    "        # self.manager_name = \"Dharampal singh\"\n",
    "        # self.manager_id=\"hello@gmail.com\"\n",
    "        # self.manager__pass=\"kumar786\"\n",
    "\n",
    "    # protected variables\n",
    "    # now it is a protected when all have _ prefix\n",
    "        # self._manager_name = \"Dharampal singh\"\n",
    "        # self._manager_id=\"hello@gmail.com\"\n",
    "        # self._manager__pass=\"kumar786\"\n",
    "\n",
    "    # private variables\n",
    "    # __ used for private variable\n",
    "        self.__manager_name = \"Dharampal singh\"\n",
    "        self.__manager_id=\"hello@gmail.com\"\n",
    "        self.__manager__pass=\"kumar786\"\n",
    "\n",
    "        self.empolyee_name=\"vikas\"\n",
    "        self.empolyee_id =\"vikaskumavat@gmail.com\"\n",
    "        self.empolyee__pass=\"kumavat\"\n",
    "        print(\"manager constructor executed\")\n",
    "\n",
    "    def Manager_hii(self):\n",
    "        print(self.manager_name)\n",
    "        print(self.manager_id)\n",
    "        print(self.manager__pass)\n",
    "\n",
    "class Empolyee(Manager):\n",
    "    # def __init__(self):\n",
    "    #     pass\n",
    "    def Empolyee_hii():\n",
    "        pass"
   ]
  },
  {
   "cell_type": "code",
   "execution_count": 18,
   "metadata": {},
   "outputs": [
    {
     "name": "stdout",
     "output_type": "stream",
     "text": [
      "manager constructor executed\n"
     ]
    }
   ],
   "source": []
  },
  {
   "cell_type": "code",
   "execution_count": 15,
   "metadata": {},
   "outputs": [
    {
     "data": {
      "text/plain": [
       "'hello@gmail.com'"
      ]
     },
     "execution_count": 15,
     "metadata": {},
     "output_type": "execute_result"
    }
   ],
   "source": [
    "mng_obj.manager_id"
   ]
  },
  {
   "cell_type": "code",
   "execution_count": 16,
   "metadata": {},
   "outputs": [
    {
     "data": {
      "text/plain": [
       "'kumar786'"
      ]
     },
     "execution_count": 16,
     "metadata": {},
     "output_type": "execute_result"
    }
   ],
   "source": [
    "emp_obj.manager__pass"
   ]
  },
  {
   "cell_type": "code",
   "execution_count": 11,
   "metadata": {},
   "outputs": [
    {
     "data": {
      "text/plain": [
       "{'manager_name': 'Dharampal singh',\n",
       " 'manager_id': 'hello@gmail.com',\n",
       " 'manager__pass': 'kumar786',\n",
       " 'empolyee_name': 'vikas',\n",
       " 'empolyee_id': 'vikaskumavat@gmail.com',\n",
       " 'empolyee__pass': 'kumavat'}"
      ]
     },
     "execution_count": 11,
     "metadata": {},
     "output_type": "execute_result"
    }
   ],
   "source": [
    "emp_obj.__dict__  # magic keyword dictionary keyword "
   ]
  },
  {
   "cell_type": "code",
   "execution_count": 19,
   "metadata": {},
   "outputs": [
    {
     "ename": "AttributeError",
     "evalue": "'Manager' object has no attribute '__manager_name'",
     "output_type": "error",
     "traceback": [
      "\u001b[1;31m---------------------------------------------------------------------------\u001b[0m",
      "\u001b[1;31mAttributeError\u001b[0m                            Traceback (most recent call last)",
      "Cell \u001b[1;32mIn[19], line 2\u001b[0m\n\u001b[0;32m      1\u001b[0m \u001b[38;5;66;03m# private variable accessing\u001b[39;00m\n\u001b[1;32m----> 2\u001b[0m \u001b[43mmng_obj\u001b[49m\u001b[38;5;241;43m.\u001b[39;49m\u001b[43m__manager_name\u001b[49m\n",
      "\u001b[1;31mAttributeError\u001b[0m: 'Manager' object has no attribute '__manager_name'"
     ]
    }
   ],
   "source": [
    "# private variable accessing\n",
    "mng_obj.__manager_name\n"
   ]
  },
  {
   "cell_type": "code",
   "execution_count": 20,
   "metadata": {},
   "outputs": [
    {
     "data": {
      "text/plain": [
       "'vikas'"
      ]
     },
     "execution_count": 20,
     "metadata": {},
     "output_type": "execute_result"
    }
   ],
   "source": [
    "emp_obj.empolyee_name"
   ]
  },
  {
   "cell_type": "code",
   "execution_count": 21,
   "metadata": {},
   "outputs": [
    {
     "ename": "AttributeError",
     "evalue": "'Empolyee' object has no attribute '__manager_name'",
     "output_type": "error",
     "traceback": [
      "\u001b[1;31m---------------------------------------------------------------------------\u001b[0m",
      "\u001b[1;31mAttributeError\u001b[0m                            Traceback (most recent call last)",
      "Cell \u001b[1;32mIn[21], line 1\u001b[0m\n\u001b[1;32m----> 1\u001b[0m \u001b[43memp_obj\u001b[49m\u001b[38;5;241;43m.\u001b[39;49m\u001b[43m__manager_name\u001b[49m\n",
      "\u001b[1;31mAttributeError\u001b[0m: 'Empolyee' object has no attribute '__manager_name'"
     ]
    }
   ],
   "source": [
    "emp_obj.__manager_name"
   ]
  },
  {
   "cell_type": "code",
   "execution_count": 23,
   "metadata": {},
   "outputs": [
    {
     "data": {
      "text/plain": [
       "{'_Manager__manager_name': 'Dharampal singh',\n",
       " '_Manager__manager_id': 'hello@gmail.com',\n",
       " '_Manager__manager__pass': 'kumar786',\n",
       " 'empolyee_name': 'vikas',\n",
       " 'empolyee_id': 'vikaskumavat@gmail.com',\n",
       " 'empolyee__pass': 'kumavat'}"
      ]
     },
     "execution_count": 23,
     "metadata": {},
     "output_type": "execute_result"
    }
   ],
   "source": [
    "mng_obj.__dict__\n",
    "# name mangiling\n",
    "# ->_manager is added to it because it can be accessed the private variables\n",
    "# -> subclass is not access through the name mangiling\n",
    "# -> python make the manager as _Manager and then it can be accessed\n"
   ]
  },
  {
   "cell_type": "code",
   "execution_count": 26,
   "metadata": {},
   "outputs": [
    {
     "data": {
      "text/plain": [
       "[__main__.Empolyee, __main__.Manager, object]"
      ]
     },
     "execution_count": 26,
     "metadata": {},
     "output_type": "execute_result"
    }
   ],
   "source": [
    "Empolyee.mro()   #method resolution order -> it started searching in itself then goes to superclass then goes in \n",
    "# seaching path is given by mro method\n"
   ]
  },
  {
   "cell_type": "code",
   "execution_count": null,
   "metadata": {},
   "outputs": [],
   "source": [
    "### ABSTRACTION.....\n",
    "# ->object is optional \n",
    "# ->abstraction not showing the body of the abstract method\n",
    "# ->... used in respect of pass\n",
    "# -> abstraction class body is writtten in subclass body"
   ]
  },
  {
   "cell_type": "code",
   "execution_count": 25,
   "metadata": {},
   "outputs": [
    {
     "name": "stdout",
     "output_type": "stream",
     "text": [
      "10\n",
      "[10, 23, 22, 15]\n"
     ]
    }
   ],
   "source": [
    "ls =[10,23,22,15]\n",
    "print(min(ls))\n",
    "print(ls)"
   ]
  },
  {
   "cell_type": "code",
   "execution_count": 27,
   "metadata": {},
   "outputs": [],
   "source": [
    "from abc import ABC,abstractmethod\n",
    "# abstract class\n",
    "class Manager(ABC):\n",
    "\n",
    "    @abstractmethod  \n",
    "    def display(self):...\n",
    "        \n",
    "    "
   ]
  },
  {
   "cell_type": "code",
   "execution_count": null,
   "metadata": {},
   "outputs": [],
   "source": [
    "obj=Manager() # ERROR OCCURED:-Can't instantiate abstract class Manager without an implementation for abstract method 'display'\n"
   ]
  },
  {
   "cell_type": "code",
   "execution_count": 29,
   "metadata": {},
   "outputs": [],
   "source": [
    "class Empolyee(Manager):\n",
    "    def display(self):\n",
    "        print(\"HII I am executed\")"
   ]
  },
  {
   "cell_type": "code",
   "execution_count": 30,
   "metadata": {},
   "outputs": [],
   "source": [
    "emp_obj=Empolyee()"
   ]
  },
  {
   "cell_type": "code",
   "execution_count": 31,
   "metadata": {},
   "outputs": [
    {
     "name": "stdout",
     "output_type": "stream",
     "text": [
      "HII I am executed\n"
     ]
    }
   ],
   "source": [
    "emp_obj.display()"
   ]
  },
  {
   "cell_type": "code",
   "execution_count": null,
   "metadata": {},
   "outputs": [],
   "source": [
    "# POLYMORPHISM......\n",
    "# ->"
   ]
  },
  {
   "cell_type": "code",
   "execution_count": null,
   "metadata": {},
   "outputs": [],
   "source": [
    "len()"
   ]
  },
  {
   "cell_type": "code",
   "execution_count": 33,
   "metadata": {},
   "outputs": [],
   "source": [
    "a=\"upflairs\"\n",
    "b=[12,34,56,78,34]\n",
    "c=[346,864,467,543,785]"
   ]
  },
  {
   "cell_type": "code",
   "execution_count": 34,
   "metadata": {},
   "outputs": [
    {
     "data": {
      "text/plain": [
       "5"
      ]
     },
     "execution_count": 34,
     "metadata": {},
     "output_type": "execute_result"
    }
   ],
   "source": [
    "len(c)"
   ]
  },
  {
   "cell_type": "code",
   "execution_count": null,
   "metadata": {},
   "outputs": [],
   "source": [
    "# email sender program\n",
    "smartengineer0786@gmail.com\n",
    "name:\n",
    "college:\n",
    "branch:\n",
    "\n",
    "done text file"
   ]
  }
 ],
 "metadata": {
  "kernelspec": {
   "display_name": "Python 3",
   "language": "python",
   "name": "python3"
  },
  "language_info": {
   "codemirror_mode": {
    "name": "ipython",
    "version": 3
   },
   "file_extension": ".py",
   "mimetype": "text/x-python",
   "name": "python",
   "nbconvert_exporter": "python",
   "pygments_lexer": "ipython3",
   "version": "3.12.2"
  }
 },
 "nbformat": 4,
 "nbformat_minor": 2
}
