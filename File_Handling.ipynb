{
 "cells": [
  {
   "cell_type": "markdown",
   "metadata": {},
   "source": [
    "### File Handling...."
   ]
  },
  {
   "cell_type": "code",
   "execution_count": 1,
   "metadata": {},
   "outputs": [
    {
     "name": "stdout",
     "output_type": "stream",
     "text": [
      "hello world\n"
     ]
    }
   ],
   "source": [
    "print(\"hello world\")"
   ]
  },
  {
   "cell_type": "code",
   "execution_count": 2,
   "metadata": {},
   "outputs": [],
   "source": [
    "# ctrl+enter --> to execute the shell\n",
    "# interactive python notebook->jupiter notebook\n",
    "# file handling -> reads,write\n",
    "# open() function -> open(File_name or File_path,mode(r,w,a,x,b))\n",
    "# r->read , w->write\n",
    "# open mode is by default read\n",
    "# file handling and os module\n",
    "# write function used for write the message and create the file if it is not made\n",
    "# write function it rewrite the data and first it remove the data and then write the data\n",
    "# append function used to add data at the end(data is preserved in this append mode)\n",
    "# Binary  mode in python file handling(read out from google)\n",
    "# path or location or address\n",
    "# 1.absolute path (full address) absolute is given when we dont have any relative path\n",
    "# 2.relative path (short address like \"arushi_path\")\n"
   ]
  },
  {
   "cell_type": "code",
   "execution_count": 6,
   "metadata": {},
   "outputs": [
    {
     "name": "stdout",
     "output_type": "stream",
     "text": [
      "Hello I am Prag!!!\n"
     ]
    }
   ],
   "source": [
    "file =open('Demo.txt','r')\n",
    "data= file.read()\n",
    "print(data)\n",
    "file.close()"
   ]
  },
  {
   "cell_type": "code",
   "execution_count": null,
   "metadata": {},
   "outputs": [],
   "source": [
    "import os\n",
    "os.listdir()"
   ]
  },
  {
   "cell_type": "code",
   "execution_count": 7,
   "metadata": {},
   "outputs": [
    {
     "name": "stdout",
     "output_type": "stream",
     "text": [
      " Volume in drive C has no label.\n",
      " Volume Serial Number is 28C5-5831\n",
      "\n",
      " Directory of c:\\Users\\Pragati\\Desktop\\Upflairs\n",
      "\n",
      "06/13/2024  06:23 PM    <DIR>          .\n",
      "06/13/2024  06:23 PM    <DIR>          ..\n",
      "06/13/2024  04:26 PM    <DIR>          __pycache__\n",
      "06/11/2024  01:57 PM             1,408 ATM_simulation.py\n",
      "06/12/2024  06:34 PM               417 b.py\n",
      "06/10/2024  04:14 PM                20 Day1.py\n",
      "06/10/2024  04:08 PM             2,745 Day2.py\n",
      "06/10/2024  04:30 PM             2,082 Day3.py\n",
      "06/10/2024  06:01 PM             1,362 Day4.py\n",
      "06/12/2024  02:00 PM             2,938 Day5.py\n",
      "06/13/2024  03:35 PM             2,340 Day6.py\n",
      "06/14/2024  04:37 PM             1,926 Day7.py\n",
      "06/13/2024  06:23 PM                18 Demo.txt\n",
      "06/14/2024  04:43 PM             1,841 File_Handling.ipynb\n",
      "06/13/2024  04:25 PM               640 logic.py\n",
      "06/12/2024  06:28 PM               330 pragati.py\n",
      "06/13/2024  04:34 PM               114 solve.py\n",
      "06/13/2024  03:27 PM               194 tempCodeRunnerFile.py\n",
      "              15 File(s)         18,375 bytes\n",
      "               3 Dir(s)  62,113,239,040 bytes free\n"
     ]
    }
   ],
   "source": [
    "ls"
   ]
  },
  {
   "cell_type": "code",
   "execution_count": 8,
   "metadata": {},
   "outputs": [],
   "source": [
    "os.mkdir(\"arushi\")  #mkdir"
   ]
  },
  {
   "cell_type": "code",
   "execution_count": 9,
   "metadata": {},
   "outputs": [],
   "source": [
    "os.rmdir(\"arushi\")  #rmdir"
   ]
  },
  {
   "cell_type": "code",
   "execution_count": 10,
   "metadata": {},
   "outputs": [],
   "source": [
    "os.mkdir(\"arushi\")"
   ]
  },
  {
   "cell_type": "code",
   "execution_count": 12,
   "metadata": {},
   "outputs": [
    {
     "name": "stdout",
     "output_type": "stream",
     "text": [
      "file is already exist\n"
     ]
    }
   ],
   "source": [
    "try:\n",
    "    os.mkdir(\"arushi\")\n",
    "except FileExistsError:\n",
    "    print(\"file is already exist\")"
   ]
  },
  {
   "cell_type": "code",
   "execution_count": 15,
   "metadata": {},
   "outputs": [],
   "source": [
    "os.makedirs(\"arushi\", exist_ok=True) #write exist_ok to not create an error"
   ]
  },
  {
   "cell_type": "code",
   "execution_count": 35,
   "metadata": {},
   "outputs": [],
   "source": [
    "#  File handling\n",
    "# we have to write close to close the file\n",
    "# file=open('Demo.txt','r') \n",
    "# data= file.read()\n",
    "# print(data)\n",
    "# file.close()"
   ]
  },
  {
   "cell_type": "code",
   "execution_count": null,
   "metadata": {},
   "outputs": [],
   "source": [
    "file=open('Demo.txt') \n",
    "# data= file.read()\n",
    "# print(data)\n",
    "# file.close()"
   ]
  },
  {
   "cell_type": "code",
   "execution_count": 36,
   "metadata": {},
   "outputs": [
    {
     "name": "stdout",
     "output_type": "stream",
     "text": [
      "Hello I am\n"
     ]
    }
   ],
   "source": [
    "print(file.read(10)) #only read one time and we can give the char specificed and if we read second time then it print next char "
   ]
  },
  {
   "cell_type": "code",
   "execution_count": 37,
   "metadata": {},
   "outputs": [
    {
     "name": "stdout",
     "output_type": "stream",
     "text": [
      " Prag!!!\n"
     ]
    }
   ],
   "source": [
    "print(file.read(10))"
   ]
  },
  {
   "cell_type": "code",
   "execution_count": 45,
   "metadata": {},
   "outputs": [],
   "source": [
    "# WRITE.....\n",
    "file=open(\"Demo2.txt\",'w')\n",
    "message=\"hello we are student\"\n",
    "file.write(message)\n",
    "file.close()"
   ]
  },
  {
   "cell_type": "code",
   "execution_count": 40,
   "metadata": {},
   "outputs": [],
   "source": [
    "file=open(\"Demo2.txt\",'w')\n",
    "message=\"hello we are Engineer\"\n",
    "file.write(message)\n",
    "file.close()"
   ]
  },
  {
   "cell_type": "code",
   "execution_count": 49,
   "metadata": {},
   "outputs": [],
   "source": [
    "# APPEND.....\n",
    "file=open(\"Demo2.txt\",'a')\n",
    "message=\"\\nhello we are Engineer\"\n",
    "file.write(message)\n",
    "file.close()"
   ]
  },
  {
   "cell_type": "code",
   "execution_count": null,
   "metadata": {},
   "outputs": [],
   "source": [
    "# x EXCUTE......\n",
    "file=open(\"Demo3.txt\",'x')\n",
    "file.close()  # FileExistsError is used when you excute the file second time\n",
    "# FileNotFoundError is there when  no such file exist in the python"
   ]
  },
  {
   "cell_type": "code",
   "execution_count": 60,
   "metadata": {},
   "outputs": [],
   "source": [
    "file=open(\"Demo4.txt\",'w')\n",
    "# file=open(\"Demo4.txt\",'a')\n",
    "message=\"\\n upflairs\"\n",
    "for i in range(100):\n",
    "    file.write(message)\n",
    "file.close() "
   ]
  },
  {
   "cell_type": "code",
   "execution_count": 63,
   "metadata": {},
   "outputs": [
    {
     "name": "stdout",
     "output_type": "stream",
     "text": [
      "101\n"
     ]
    }
   ],
   "source": [
    "with open('Demo4.txt','r') as file: #write with function so that we donot wanted to close the file\n",
    "    content =file.readlines()\n",
    "    print(len(content))"
   ]
  },
  {
   "cell_type": "code",
   "execution_count": null,
   "metadata": {},
   "outputs": [],
   "source": [
    "os.chdir(\"arushi\")"
   ]
  },
  {
   "cell_type": "code",
   "execution_count": 70,
   "metadata": {},
   "outputs": [
    {
     "data": {
      "text/plain": [
       "'c:\\\\Users\\\\Pragati\\\\Desktop\\\\Upflairs\\\\arushi'"
      ]
     },
     "execution_count": 70,
     "metadata": {},
     "output_type": "execute_result"
    }
   ],
   "source": [
    "pwd "
   ]
  },
  {
   "cell_type": "code",
   "execution_count": null,
   "metadata": {},
   "outputs": [],
   "source": [
    "os.chdir(\"arushi\")"
   ]
  },
  {
   "cell_type": "code",
   "execution_count": 71,
   "metadata": {},
   "outputs": [
    {
     "data": {
      "text/plain": [
       "b'c:\\\\Users\\\\Pragati\\\\Desktop\\\\Upflairs\\\\arushi'"
      ]
     },
     "execution_count": 71,
     "metadata": {},
     "output_type": "execute_result"
    }
   ],
   "source": [
    "os.getcwdb()"
   ]
  },
  {
   "cell_type": "code",
   "execution_count": null,
   "metadata": {},
   "outputs": [],
   "source": [
    "os.chdir(\"c:\\\\Users\\\\Pragati\\\\Desktop\\\\Upflairs\\\\arushi'\")"
   ]
  },
  {
   "cell_type": "code",
   "execution_count": null,
   "metadata": {},
   "outputs": [],
   "source": [
    "arushi_path =\"c:\\\\Users\\\\Pragati\\\\Desktop\\\\Upflairs\\\\arushi'\"\n",
    "os.chdir(\"arushi\")"
   ]
  },
  {
   "cell_type": "code",
   "execution_count": 75,
   "metadata": {},
   "outputs": [
    {
     "data": {
      "text/plain": [
       "'c:\\\\Users\\\\Pragati\\\\Desktop\\\\Upflairs\\\\arushi'"
      ]
     },
     "execution_count": 75,
     "metadata": {},
     "output_type": "execute_result"
    }
   ],
   "source": [
    "pwd\n"
   ]
  },
  {
   "cell_type": "code",
   "execution_count": 77,
   "metadata": {},
   "outputs": [
    {
     "name": "stdout",
     "output_type": "stream",
     "text": [
      "not present\n"
     ]
    }
   ],
   "source": [
    "if os.path.exists(\"arushi\"):\n",
    "    print(\"yes present\")\n",
    "else:\n",
    "    print(\"not present\")"
   ]
  },
  {
   "cell_type": "code",
   "execution_count": 87,
   "metadata": {},
   "outputs": [
    {
     "name": "stdout",
     "output_type": "stream",
     "text": [
      "yes present\n"
     ]
    }
   ],
   "source": [
    "if os.path.exists(\"nikita\"):\n",
    "    print(\"yes present\")\n",
    "else:\n",
    "    os.mkdir(\"nikita\")\n",
    "    "
   ]
  },
  {
   "cell_type": "code",
   "execution_count": 84,
   "metadata": {},
   "outputs": [
    {
     "data": {
      "text/plain": [
       "'c:\\\\Users\\\\Pragati\\\\Desktop\\\\Upflairs'"
      ]
     },
     "execution_count": 84,
     "metadata": {},
     "output_type": "execute_result"
    }
   ],
   "source": [
    "pwd "
   ]
  },
  {
   "cell_type": "code",
   "execution_count": 83,
   "metadata": {},
   "outputs": [
    {
     "name": "stdout",
     "output_type": "stream",
     "text": [
      "c:\\Users\\Pragati\\Desktop\\Upflairs\n"
     ]
    },
    {
     "name": "stderr",
     "output_type": "stream",
     "text": [
      "C:\\Users\\Pragati\\AppData\\Roaming\\Python\\Python312\\site-packages\\IPython\\core\\magics\\osm.py:417: UserWarning: This is now an optional IPython functionality, setting dhist requires you to install the `pickleshare` library.\n",
      "  self.shell.db['dhist'] = compress_dhist(dhist)[-100:]\n"
     ]
    }
   ],
   "source": [
    "cd ..\n"
   ]
  },
  {
   "cell_type": "code",
   "execution_count": 92,
   "metadata": {},
   "outputs": [
    {
     "name": "stdout",
     "output_type": "stream",
     "text": [
      "D:\\coding\\Data Scientist\\datasets\n"
     ]
    },
    {
     "name": "stderr",
     "output_type": "stream",
     "text": [
      "<>:1: SyntaxWarning: invalid escape sequence '\\c'\n",
      "<>:1: SyntaxWarning: invalid escape sequence '\\c'\n",
      "C:\\Users\\Pragati\\AppData\\Local\\Temp\\ipykernel_12932\\401961587.py:1: SyntaxWarning: invalid escape sequence '\\c'\n",
      "  path1 =\"D:\\coding\\Data Scientist\"\n"
     ]
    }
   ],
   "source": [
    "path1 =\"D:\\coding\\Data Scientist\"\n",
    "path2 = \"datasets\"\n",
    "# complete_path1=path1 +\"\\\\\"+path2\n",
    "# complete_path1\n",
    "complete_path2 =os.path.join(path1,path2)\n",
    "print(complete_path2)"
   ]
  },
  {
   "cell_type": "code",
   "execution_count": null,
   "metadata": {},
   "outputs": [],
   "source": [
    "# os.remove,os.removedir,os.rename"
   ]
  },
  {
   "cell_type": "code",
   "execution_count": null,
   "metadata": {},
   "outputs": [],
   "source": [
    "import shutil"
   ]
  },
  {
   "cell_type": "code",
   "execution_count": null,
   "metadata": {},
   "outputs": [],
   "source": [
    "shutil.move()\n",
    "shutil.copy()\n",
    "shutil.rmtree() #recycle se deleted"
   ]
  },
  {
   "cell_type": "code",
   "execution_count": null,
   "metadata": {},
   "outputs": [],
   "source": [
    "#FILE FILTERING PROGRAM.....\n",
    "#  assignment ->quiz.py file(code in this file) and Data as folder(present some file as Demo.txt,hello.txt,im.jpg,im2.png,im3.peg,p1.pdf,p2.pdf)\n",
    "# WAP in quiz to enter in assignment file and make 3 new folder(txt folder,image folder,pdf folder) and then move the file respective folder"
   ]
  },
  {
   "cell_type": "code",
   "execution_count": 7,
   "metadata": {},
   "outputs": [],
   "source": [
    "import os\n",
    "os.mkdir(\"Assignment\")\n"
   ]
  },
  {
   "cell_type": "code",
   "execution_count": 39,
   "metadata": {},
   "outputs": [
    {
     "name": "stdout",
     "output_type": "stream",
     "text": [
      "c:\\Users\\Pragati\\Desktop\\UPFLAIRS\n"
     ]
    },
    {
     "name": "stderr",
     "output_type": "stream",
     "text": [
      "C:\\Users\\Pragati\\AppData\\Roaming\\Python\\Python312\\site-packages\\IPython\\core\\magics\\osm.py:417: UserWarning: This is now an optional IPython functionality, setting dhist requires you to install the `pickleshare` library.\n",
      "  self.shell.db['dhist'] = compress_dhist(dhist)[-100:]\n"
     ]
    }
   ],
   "source": [
    "cd ..\n"
   ]
  },
  {
   "cell_type": "code",
   "execution_count": 40,
   "metadata": {},
   "outputs": [
    {
     "data": {
      "text/plain": [
       "'c:\\\\Users\\\\Pragati\\\\Desktop\\\\UPFLAIRS'"
      ]
     },
     "execution_count": 40,
     "metadata": {},
     "output_type": "execute_result"
    }
   ],
   "source": [
    "pwd"
   ]
  },
  {
   "cell_type": "code",
   "execution_count": 49,
   "metadata": {},
   "outputs": [],
   "source": [
    "os.chdir(\"Assignment\") \n"
   ]
  },
  {
   "cell_type": "code",
   "execution_count": 71,
   "metadata": {},
   "outputs": [
    {
     "data": {
      "text/plain": [
       "'c:\\\\Users\\\\Pragati\\\\Desktop\\\\UPFLAIRS\\\\Assignment'"
      ]
     },
     "execution_count": 71,
     "metadata": {},
     "output_type": "execute_result"
    }
   ],
   "source": [
    "pwd"
   ]
  },
  {
   "cell_type": "code",
   "execution_count": 50,
   "metadata": {},
   "outputs": [],
   "source": [
    "\n",
    "os.mkdir(\"Data\")"
   ]
  },
  {
   "cell_type": "code",
   "execution_count": 68,
   "metadata": {},
   "outputs": [],
   "source": [
    "file= open(\"quiz.py\",\"w\")\n",
    "file.close()"
   ]
  },
  {
   "cell_type": "code",
   "execution_count": 77,
   "metadata": {},
   "outputs": [
    {
     "name": "stderr",
     "output_type": "stream",
     "text": [
      "'ls' is not recognized as an internal or external command,\n",
      "operable program or batch file.\n"
     ]
    }
   ],
   "source": [
    "os.chdir(\"Data\")"
   ]
  },
  {
   "cell_type": "code",
   "execution_count": 59,
   "metadata": {},
   "outputs": [],
   "source": [
    "file= open(\"Demo.txt\",\"w\")\n",
    "file.close()\n",
    "file= open(\"Hello.txt\",\"w\")\n",
    "file.close()\n",
    "file= open(\"img.jpg\",\"w\")\n",
    "file.close()\n",
    "file= open(\"im2.png\",\"w\")\n",
    "file.close()\n",
    "file= open(\"img3.speg\",\"w\")\n",
    "file.close()\n",
    "file= open(\"p1.pdf\",\"w\")\n",
    "file.close()\n",
    "file= open(\"p2.pdf\",\"w\")\n",
    "file.close()"
   ]
  },
  {
   "cell_type": "code",
   "execution_count": 65,
   "metadata": {},
   "outputs": [],
   "source": [
    "os.mkdir(\"TEXT FOLDER\")\n",
    "os.mkdir(\"IMAGE FOLDER\")\n",
    "os.mkdir(\"PDF FOLDER\")\n"
   ]
  },
  {
   "cell_type": "code",
   "execution_count": null,
   "metadata": {},
   "outputs": [],
   "source": [
    "source_path=\"\"\n",
    "Destination_path= \n",
    "shutil.move() # (sourcepath, destinationpath)"
   ]
  },
  {
   "cell_type": "code",
   "execution_count": 94,
   "metadata": {},
   "outputs": [
    {
     "name": "stdout",
     "output_type": "stream",
     "text": [
      "text file\n",
      "text file\n"
     ]
    }
   ],
   "source": [
    "a= \"Demo.txt\"\n",
    "if a.endswith(\".txt\"):\n",
    "    print(\"text file\")\n",
    "if a.split(\".\")[1] ==\"txt\":\n",
    "    print(\"text file\")"
   ]
  },
  {
   "cell_type": "code",
   "execution_count": 23,
   "metadata": {},
   "outputs": [
    {
     "name": "stdout",
     "output_type": "stream",
     "text": [
      "upflairs\n",
      "<class 'str'>\n"
     ]
    }
   ],
   "source": [
    "# OOPS.....\n",
    "var = str(\"upflairs\")\n",
    "print(var)\n",
    "print(type(var))"
   ]
  },
  {
   "cell_type": "code",
   "execution_count": null,
   "metadata": {},
   "outputs": [],
   "source": []
  }
 ],
 "metadata": {
  "kernelspec": {
   "display_name": "Python 3",
   "language": "python",
   "name": "python3"
  },
  "language_info": {
   "codemirror_mode": {
    "name": "ipython",
    "version": 3
   },
   "file_extension": ".py",
   "mimetype": "text/x-python",
   "name": "python",
   "nbconvert_exporter": "python",
   "pygments_lexer": "ipython3",
   "version": "3.12.2"
  }
 },
 "nbformat": 4,
 "nbformat_minor": 2
}
