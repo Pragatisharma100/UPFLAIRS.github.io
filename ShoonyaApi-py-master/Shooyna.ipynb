{
 "cells": [
  {
   "cell_type": "code",
   "execution_count": 4,
   "metadata": {},
   "outputs": [
    {
     "name": "stdout",
     "output_type": "stream",
     "text": [
      "Defaulting to user installation because normal site-packages is not writeable\n",
      "Processing f:\\upflairs\\shoonyaapi-py-master\\market project\\norenrestapipy-0.0.16-py2.py3-none-any.whl\n",
      "Note: you may need to restart the kernel to use updated packages.\n"
     ]
    },
    {
     "name": "stderr",
     "output_type": "stream",
     "text": [
      "WARNING: Requirement 'MARKET PROJECT\\\\NorenRestApiPy-0.0.16-py2.py3-none-any.whl' looks like a filename, but the file does not exist\n",
      "ERROR: Could not install packages due to an OSError: [Errno 2] No such file or directory: 'F:\\\\Upflairs\\\\ShoonyaApi-py-master\\\\MARKET PROJECT\\\\NorenRestApiPy-0.0.16-py2.py3-none-any.whl'\n",
      "\n"
     ]
    }
   ],
   "source": [
    "pip install \"MARKET PROJECT\\NorenRestApiPy-0.0.16-py2.py3-none-any.whl\""
   ]
  },
  {
   "cell_type": "code",
   "execution_count": 5,
   "metadata": {},
   "outputs": [],
   "source": [
    "# User credentials and other details\n",
    "user = 'FA68357'\n",
    "pwd = 'P$aa93149'\n",
    "factor2 = \"05082004\"\n",
    "vc = 'FA68357_U'\n",
    "apikey = '8d49c5a4fab22d91b097b246b1c64d2f'\n",
    "imei = 'abc1234'"
   ]
  },
  {
   "cell_type": "code",
   "execution_count": 11,
   "metadata": {},
   "outputs": [
    {
     "name": "stdout",
     "output_type": "stream",
     "text": [
      "done\n"
     ]
    }
   ],
   "source": [
    "from NorenRestApiPy.NorenApi import  NorenApi\n",
    "class ShoonyaApiPy(NorenApi):\n",
    "    def __init__(self):\n",
    "        NorenApi.__init__(self, host='https://api.shoonya.com/NorenWClientTP/', websocket='wss://api.shoonya.com/NorenWSTP/')        \n",
    "        global api\n",
    "        api = self\n",
    "    print(\"done\")"
   ]
  },
  {
   "cell_type": "code",
   "execution_count": 7,
   "metadata": {},
   "outputs": [
    {
     "ename": "TypeError",
     "evalue": "NorenApi.__init__() missing 1 required positional argument: 'eodhost'",
     "output_type": "error",
     "traceback": [
      "\u001b[1;31m---------------------------------------------------------------------------\u001b[0m",
      "\u001b[1;31mTypeError\u001b[0m                                 Traceback (most recent call last)",
      "Cell \u001b[1;32mIn[7], line 3\u001b[0m\n\u001b[0;32m      1\u001b[0m \u001b[38;5;28;01mimport\u001b[39;00m \u001b[38;5;21;01mlogging\u001b[39;00m\n\u001b[0;32m      2\u001b[0m logging\u001b[38;5;241m.\u001b[39mbasicConfig(level\u001b[38;5;241m=\u001b[39mlogging\u001b[38;5;241m.\u001b[39mDEBUG)\n\u001b[1;32m----> 3\u001b[0m api \u001b[38;5;241m=\u001b[39m \u001b[43mShoonyaApiPy\u001b[49m\u001b[43m(\u001b[49m\u001b[43m)\u001b[49m\n\u001b[0;32m      4\u001b[0m ret \u001b[38;5;241m=\u001b[39m api\u001b[38;5;241m.\u001b[39mlogin(userid\u001b[38;5;241m=\u001b[39muser, password\u001b[38;5;241m=\u001b[39mpwd, twoFA\u001b[38;5;241m=\u001b[39mfactor2, vendor_code\u001b[38;5;241m=\u001b[39mvc, api_secret\u001b[38;5;241m=\u001b[39mapikey, imei\u001b[38;5;241m=\u001b[39mimei)\n\u001b[0;32m      5\u001b[0m \u001b[38;5;28mprint\u001b[39m(ret)\n",
      "Cell \u001b[1;32mIn[6], line 4\u001b[0m, in \u001b[0;36mShoonyaApiPy.__init__\u001b[1;34m(self)\u001b[0m\n\u001b[0;32m      3\u001b[0m \u001b[38;5;28;01mdef\u001b[39;00m \u001b[38;5;21m__init__\u001b[39m(\u001b[38;5;28mself\u001b[39m):\n\u001b[1;32m----> 4\u001b[0m     \u001b[43mNorenApi\u001b[49m\u001b[38;5;241;43m.\u001b[39;49m\u001b[38;5;21;43m__init__\u001b[39;49m\u001b[43m(\u001b[49m\u001b[38;5;28;43mself\u001b[39;49m\u001b[43m,\u001b[49m\u001b[43m \u001b[49m\u001b[43mhost\u001b[49m\u001b[38;5;241;43m=\u001b[39;49m\u001b[38;5;124;43m'\u001b[39;49m\u001b[38;5;124;43mhttps://api.shoonya.com/NorenWClientTP/\u001b[39;49m\u001b[38;5;124;43m'\u001b[39;49m\u001b[43m,\u001b[49m\u001b[43m \u001b[49m\u001b[43mwebsocket\u001b[49m\u001b[38;5;241;43m=\u001b[39;49m\u001b[38;5;124;43m'\u001b[39;49m\u001b[38;5;124;43mwss://api.shoonya.com/NorenWSTP/\u001b[39;49m\u001b[38;5;124;43m'\u001b[39;49m\u001b[43m)\u001b[49m        \n\u001b[0;32m      5\u001b[0m     \u001b[38;5;28;01mglobal\u001b[39;00m api\n\u001b[0;32m      6\u001b[0m     api \u001b[38;5;241m=\u001b[39m \u001b[38;5;28mself\u001b[39m\n",
      "\u001b[1;31mTypeError\u001b[0m: NorenApi.__init__() missing 1 required positional argument: 'eodhost'"
     ]
    }
   ],
   "source": [
    "import logging\n",
    "logging.basicConfig(level=logging.DEBUG)\n",
    "api = ShoonyaApiPy()\n",
    "ret = api.login(userid=user, password=pwd, twoFA=factor2, vendor_code=vc, api_secret=apikey, imei=imei)\n",
    "print(ret)"
   ]
  }
 ],
 "metadata": {
  "kernelspec": {
   "display_name": "Python 3",
   "language": "python",
   "name": "python3"
  },
  "language_info": {
   "codemirror_mode": {
    "name": "ipython",
    "version": 3
   },
   "file_extension": ".py",
   "mimetype": "text/x-python",
   "name": "python",
   "nbconvert_exporter": "python",
   "pygments_lexer": "ipython3",
   "version": "3.12.2"
  }
 },
 "nbformat": 4,
 "nbformat_minor": 2
}
