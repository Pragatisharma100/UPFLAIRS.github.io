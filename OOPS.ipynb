{
 "cells": [
  {
   "cell_type": "code",
   "execution_count": 17,
   "metadata": {},
   "outputs": [],
   "source": [
    "class Student: \n",
    "   #class properties\n",
    "   name=[\"rahul\",\"aman\",\"nitin\"]\n",
    "   branch=\"computer science engineer\"\n",
    "   college=\"IET Lucknow\"\n",
    "# class Faculty:\n",
    "#    pass "
   ]
  },
  {
   "cell_type": "code",
   "execution_count": 18,
   "metadata": {},
   "outputs": [],
   "source": [
    "stu_obj=Student() #instances"
   ]
  },
  {
   "cell_type": "code",
   "execution_count": 19,
   "metadata": {},
   "outputs": [
    {
     "name": "stdout",
     "output_type": "stream",
     "text": [
      "['rahul', 'aman', 'nitin']\n"
     ]
    }
   ],
   "source": [
    "print(stu_obj.name)\n",
    "\n"
   ]
  },
  {
   "cell_type": "code",
   "execution_count": 20,
   "metadata": {},
   "outputs": [
    {
     "name": "stdout",
     "output_type": "stream",
     "text": [
      "computer science engineer\n"
     ]
    }
   ],
   "source": [
    "print(stu_obj.branch)"
   ]
  },
  {
   "cell_type": "code",
   "execution_count": 21,
   "metadata": {},
   "outputs": [],
   "source": [
    "stu_obj.branch=\"IT\""
   ]
  },
  {
   "cell_type": "code",
   "execution_count": 22,
   "metadata": {},
   "outputs": [
    {
     "name": "stdout",
     "output_type": "stream",
     "text": [
      "IT\n"
     ]
    }
   ],
   "source": [
    "print(stu_obj.branch)"
   ]
  },
  {
   "cell_type": "code",
   "execution_count": 23,
   "metadata": {},
   "outputs": [],
   "source": [
    "stu_obj.college=\"Gweca\""
   ]
  },
  {
   "cell_type": "code",
   "execution_count": 24,
   "metadata": {},
   "outputs": [
    {
     "data": {
      "text/plain": [
       "'Gweca'"
      ]
     },
     "execution_count": 24,
     "metadata": {},
     "output_type": "execute_result"
    }
   ],
   "source": [
    "stu_obj.college"
   ]
  },
  {
   "cell_type": "code",
   "execution_count": 25,
   "metadata": {},
   "outputs": [
    {
     "name": "stdout",
     "output_type": "stream",
     "text": [
      "IT\n"
     ]
    }
   ],
   "source": [
    "print(stu_obj.branch)"
   ]
  },
  {
   "cell_type": "code",
   "execution_count": 106,
   "metadata": {},
   "outputs": [],
   "source": [
    "class ListFunction:\n",
    "    # ls=[25,45,32,56,32,98,112,56,214,654,23,45,67,87] #without using len function\n",
    "    # count=0 #what diffences btw method and function\n",
    "    #if we put write in class then it is method\n",
    "    #  if we write ouside in class then it is function\n",
    "\n",
    "    # Method\n",
    "    def len_finder(self):\n",
    "        count=0\n",
    "        for item in self.ls:\n",
    "            count +=1\n",
    "        print(count)\n",
    "\n",
    "    # method\n",
    "    def average_finder(self):\n",
    "        sum=0\n",
    "        count=0\n",
    "        for item in self.ls:\n",
    "            sum +=item\n",
    "            count+=1\n",
    "        average=sum/item\n",
    "        print(average)\n",
    "    \n",
    "    # method\n",
    "    def average_even_finder(self):\n",
    "        sum=0\n",
    "        count=0\n",
    "        for item in self.ls:\n",
    "            if item %2 ==0:\n",
    "                sum +=item\n",
    "                count+=1\n",
    "        average=sum/item\n",
    "        print(average)\n",
    "\n",
    "    ls = [25,41,63,85,74,96,112,113,117,75,963,42,14,52,77,88,55,66,33,22,11,44,55,88,99,66,74,52,1]\n",
    "  # method\n",
    "    def average_odd_finder(self):\n",
    "        sum=0\n",
    "        count=0\n",
    "        for item in self.ls:\n",
    "            if item %2 !=0:\n",
    "                sum +=item\n",
    "                count+=1\n",
    "        average=sum/item\n",
    "        print(average)\n",
    "            \n",
    "    def average_fifty_to_hundred_finder(self):\n",
    "        sum=0\n",
    "        count=0\n",
    "        for item in self.ls:\n",
    "            if item>=50 and item<=100 and item%2==0:\n",
    "                sum +=item\n",
    "                count+=1\n",
    "        average=sum/item\n",
    "        print(round(2))\n",
    "\n"
   ]
  },
  {
   "cell_type": "code",
   "execution_count": 107,
   "metadata": {},
   "outputs": [],
   "source": [
    "obj =ListFunction()"
   ]
  },
  {
   "cell_type": "code",
   "execution_count": 108,
   "metadata": {},
   "outputs": [
    {
     "data": {
      "text/plain": [
       "[25,\n",
       " 41,\n",
       " 63,\n",
       " 85,\n",
       " 74,\n",
       " 96,\n",
       " 112,\n",
       " 113,\n",
       " 117,\n",
       " 75,\n",
       " 963,\n",
       " 42,\n",
       " 14,\n",
       " 52,\n",
       " 77,\n",
       " 88,\n",
       " 55,\n",
       " 66,\n",
       " 33,\n",
       " 22,\n",
       " 11,\n",
       " 44,\n",
       " 55,\n",
       " 88,\n",
       " 99,\n",
       " 66,\n",
       " 74,\n",
       " 52,\n",
       " 1]"
      ]
     },
     "execution_count": 108,
     "metadata": {},
     "output_type": "execute_result"
    }
   ],
   "source": [
    "obj.ls"
   ]
  },
  {
   "cell_type": "code",
   "execution_count": 98,
   "metadata": {},
   "outputs": [
    {
     "name": "stdout",
     "output_type": "stream",
     "text": [
      "29\n"
     ]
    }
   ],
   "source": [
    "obj.len_finder() #"
   ]
  },
  {
   "cell_type": "code",
   "execution_count": 99,
   "metadata": {},
   "outputs": [
    {
     "name": "stdout",
     "output_type": "stream",
     "text": [
      "2703.0\n"
     ]
    }
   ],
   "source": [
    "obj.average_finder()"
   ]
  },
  {
   "cell_type": "code",
   "execution_count": 73,
   "metadata": {},
   "outputs": [
    {
     "name": "stdout",
     "output_type": "stream",
     "text": [
      "14.413793103448276\n"
     ]
    }
   ],
   "source": [
    "obj.average_even_finder()"
   ]
  },
  {
   "cell_type": "code",
   "execution_count": 109,
   "metadata": {},
   "outputs": [
    {
     "name": "stdout",
     "output_type": "stream",
     "text": [
      "2\n"
     ]
    }
   ],
   "source": [
    "obj.average_fifty_to_hundred_finder()"
   ]
  },
  {
   "cell_type": "code",
   "execution_count": 151,
   "metadata": {},
   "outputs": [],
   "source": [
    "# CONSTRUCTOR\n",
    "# -> syntax -> __init__(self)\n",
    "# ->one class has multiple instance so we have to declare the varaiable\n",
    "# ->every object have same class variable and instances variable\n",
    "# ->instance variable can only change itself\n",
    "# ->constructor call itself\n",
    "class Student:\n",
    "    # class variable\n",
    "    Name =\"rahul\"\n",
    "\n",
    "    # instance variable\n",
    "    def __init__(self):\n",
    "        Student_name =\"Mohit\"\n",
    "        self.branch =\"CSE\"\n",
    "        self.college=\"GWECA\"\n",
    "        print(\"CONSTRUCTOR IS EXECUTED ITSELF AUTOMATICALLY\")\n",
    "\n"
   ]
  },
  {
   "cell_type": "code",
   "execution_count": 152,
   "metadata": {},
   "outputs": [
    {
     "name": "stdout",
     "output_type": "stream",
     "text": [
      "CONSTRUCTOR IS EXECUTED ITSELF AUTOMATICALLY\n"
     ]
    }
   ],
   "source": [
    "obj =Student()"
   ]
  },
  {
   "cell_type": "code",
   "execution_count": 138,
   "metadata": {},
   "outputs": [],
   "source": [
    "obj1=Student()\n",
    "obj2=Student()"
   ]
  },
  {
   "cell_type": "code",
   "execution_count": 144,
   "metadata": {},
   "outputs": [
    {
     "data": {
      "text/plain": [
       "'rahul'"
      ]
     },
     "execution_count": 144,
     "metadata": {},
     "output_type": "execute_result"
    }
   ],
   "source": [
    "Student.Name"
   ]
  },
  {
   "cell_type": "code",
   "execution_count": 139,
   "metadata": {},
   "outputs": [],
   "source": [
    "obj1.Name=\"varshit2\""
   ]
  },
  {
   "cell_type": "code",
   "execution_count": 140,
   "metadata": {},
   "outputs": [],
   "source": [
    "obj2.Name =\"vaeshit\""
   ]
  },
  {
   "cell_type": "code",
   "execution_count": 142,
   "metadata": {},
   "outputs": [
    {
     "data": {
      "text/plain": [
       "'vaeshit'"
      ]
     },
     "execution_count": 142,
     "metadata": {},
     "output_type": "execute_result"
    }
   ],
   "source": [
    "obj2.Name"
   ]
  },
  {
   "cell_type": "code",
   "execution_count": 143,
   "metadata": {},
   "outputs": [
    {
     "data": {
      "text/plain": [
       "'varshit2'"
      ]
     },
     "execution_count": 143,
     "metadata": {},
     "output_type": "execute_result"
    }
   ],
   "source": [
    "obj1.Name"
   ]
  },
  {
   "cell_type": "code",
   "execution_count": 145,
   "metadata": {},
   "outputs": [],
   "source": [
    "Student.Name =\"Dhrampal\""
   ]
  },
  {
   "cell_type": "code",
   "execution_count": 146,
   "metadata": {},
   "outputs": [],
   "source": [
    "obj4= Student()"
   ]
  },
  {
   "cell_type": "code",
   "execution_count": 147,
   "metadata": {},
   "outputs": [
    {
     "data": {
      "text/plain": [
       "'Dhrampal'"
      ]
     },
     "execution_count": 147,
     "metadata": {},
     "output_type": "execute_result"
    }
   ],
   "source": [
    "obj4.Name"
   ]
  },
  {
   "cell_type": "code",
   "execution_count": 191,
   "metadata": {},
   "outputs": [],
   "source": [
    "class Student:\n",
    "    # class variable\n",
    "    # Name =\"rahul\"\n",
    "\n",
    "    # instance variable\n",
    "    def __init__(self,name,student_branch,student_college):\n",
    "        self.Student_name =name\n",
    "        self.branch = student_branch\n",
    "        self.college=student_college\n",
    "        print(\"CONSTRUCTOR IS EXECUTED ITSELF AUTOMATICALLY\")\n",
    "\n"
   ]
  },
  {
   "cell_type": "code",
   "execution_count": 192,
   "metadata": {},
   "outputs": [
    {
     "name": "stdout",
     "output_type": "stream",
     "text": [
      "CONSTRUCTOR IS EXECUTED ITSELF AUTOMATICALLY\n",
      "CONSTRUCTOR IS EXECUTED ITSELF AUTOMATICALLY\n"
     ]
    }
   ],
   "source": [
    "obj =Student(name=\"rahul\",student_branch=\"cse\",student_college=\"GWECA\")\n",
    "obj2 =Student(name=\"rah\",student_branch=\"it\",student_college=\"GECA\")\n"
   ]
  },
  {
   "cell_type": "code",
   "execution_count": 193,
   "metadata": {},
   "outputs": [
    {
     "name": "stdout",
     "output_type": "stream",
     "text": [
      "CONSTRUCTOR IS EXECUTED ITSELF AUTOMATICALLY\n"
     ]
    }
   ],
   "source": [
    "obj3 =Student(name=\"Pragati\",student_branch=\"cse\",student_college=\"WECA\")"
   ]
  },
  {
   "cell_type": "code",
   "execution_count": 162,
   "metadata": {},
   "outputs": [
    {
     "data": {
      "text/plain": [
       "'cse'"
      ]
     },
     "execution_count": 162,
     "metadata": {},
     "output_type": "execute_result"
    }
   ],
   "source": [
    "obj.branch"
   ]
  },
  {
   "cell_type": "code",
   "execution_count": 164,
   "metadata": {},
   "outputs": [
    {
     "data": {
      "text/plain": [
       "'it'"
      ]
     },
     "execution_count": 164,
     "metadata": {},
     "output_type": "execute_result"
    }
   ],
   "source": [
    "obj2.branch"
   ]
  },
  {
   "cell_type": "code",
   "execution_count": 163,
   "metadata": {},
   "outputs": [
    {
     "data": {
      "text/plain": [
       "'rahul'"
      ]
     },
     "execution_count": 163,
     "metadata": {},
     "output_type": "execute_result"
    }
   ],
   "source": [
    "obj.Name"
   ]
  },
  {
   "cell_type": "code",
   "execution_count": null,
   "metadata": {},
   "outputs": [],
   "source": [
    "obj3.Name"
   ]
  },
  {
   "cell_type": "code",
   "execution_count": 183,
   "metadata": {},
   "outputs": [
    {
     "data": {
      "text/plain": [
       "'cse'"
      ]
     },
     "execution_count": 183,
     "metadata": {},
     "output_type": "execute_result"
    }
   ],
   "source": [
    "obj3.branch"
   ]
  },
  {
   "cell_type": "code",
   "execution_count": 186,
   "metadata": {},
   "outputs": [
    {
     "data": {
      "text/plain": [
       "'WECA'"
      ]
     },
     "execution_count": 186,
     "metadata": {},
     "output_type": "execute_result"
    }
   ],
   "source": [
    "obj3.college"
   ]
  },
  {
   "cell_type": "code",
   "execution_count": null,
   "metadata": {},
   "outputs": [],
   "source": [
    "# class Faculty:\n",
    "# class variable\n",
    "# constructor\n",
    "# instances variables\n",
    "def __init__ (self):\n",
    "    def show__info():\n",
    "        print(instances variables)\n"
   ]
  },
  {
   "cell_type": "code",
   "execution_count": 18,
   "metadata": {},
   "outputs": [],
   "source": [
    "class Faculty:\n",
    "    # class variable\n",
    "    # constructor\n",
    "    # instance variable\n",
    "    def __init__(self,name,Faculty_branch,Faculty_college):\n",
    "        self.Faculty_name =name\n",
    "        self.branch = Faculty_branch\n",
    "        self.college=Faculty_college\n",
    "       "
   ]
  },
  {
   "cell_type": "code",
   "execution_count": 19,
   "metadata": {},
   "outputs": [],
   "source": [
    "obj1=Faculty(name=\"Prag\",Faculty_branch=\"cse\",Faculty_college=\"Weca\")\n",
    "obj2=Faculty(name=\"Arushi\",Faculty_branch=\"IT\",Faculty_college=\"Eca\")\n",
    "obj3=Faculty(name=\"nikki\",Faculty_branch=\"Mech\",Faculty_college=\"Gweca\")\n"
   ]
  },
  {
   "cell_type": "code",
   "execution_count": 20,
   "metadata": {},
   "outputs": [
    {
     "data": {
      "text/plain": [
       "'cse'"
      ]
     },
     "execution_count": 20,
     "metadata": {},
     "output_type": "execute_result"
    }
   ],
   "source": [
    "obj1.branch\n"
   ]
  },
  {
   "cell_type": "code",
   "execution_count": 21,
   "metadata": {},
   "outputs": [
    {
     "data": {
      "text/plain": [
       "'Weca'"
      ]
     },
     "execution_count": 21,
     "metadata": {},
     "output_type": "execute_result"
    }
   ],
   "source": [
    "obj1.college\n"
   ]
  },
  {
   "cell_type": "code",
   "execution_count": 22,
   "metadata": {},
   "outputs": [
    {
     "data": {
      "text/plain": [
       "'Prag'"
      ]
     },
     "execution_count": 22,
     "metadata": {},
     "output_type": "execute_result"
    }
   ],
   "source": [
    "obj1.Faculty_name"
   ]
  },
  {
   "cell_type": "code",
   "execution_count": 23,
   "metadata": {},
   "outputs": [
    {
     "data": {
      "text/plain": [
       "'Mech'"
      ]
     },
     "execution_count": 23,
     "metadata": {},
     "output_type": "execute_result"
    }
   ],
   "source": [
    "obj3.branch"
   ]
  },
  {
   "cell_type": "code",
   "execution_count": 24,
   "metadata": {},
   "outputs": [
    {
     "data": {
      "text/plain": [
       "'Eca'"
      ]
     },
     "execution_count": 24,
     "metadata": {},
     "output_type": "execute_result"
    }
   ],
   "source": [
    "obj2.college"
   ]
  },
  {
   "cell_type": "code",
   "execution_count": 26,
   "metadata": {},
   "outputs": [],
   "source": [
    "class Faculty:\n",
    "    # class variable\n",
    "    # constructor\n",
    "    # instance variable\n",
    "    def __init__(self,name,Faculty_branch,Faculty_college):\n",
    "        def show__info(self,name,Faculty_branch,Faculty_college):\n",
    "            self.Faculty_name =name\n",
    "            self.branch = Faculty_branch\n",
    "            self.college=Faculty_college\n",
    "       "
   ]
  },
  {
   "cell_type": "code",
   "execution_count": 27,
   "metadata": {},
   "outputs": [],
   "source": [
    "obj1=Faculty(name=\"Prag\",Faculty_branch=\"cse\",Faculty_college=\"Weca\")\n",
    "obj2=Faculty(name=\"Arushi\",Faculty_branch=\"IT\",Faculty_college=\"Eca\")\n",
    "obj3=Faculty(name=\"nikki\",Faculty_branch=\"Mech\",Faculty_college=\"Gweca\")"
   ]
  },
  {
   "cell_type": "code",
   "execution_count": 28,
   "metadata": {},
   "outputs": [
    {
     "ename": "AttributeError",
     "evalue": "'Faculty' object has no attribute 'Faculty_name'",
     "output_type": "error",
     "traceback": [
      "\u001b[1;31m---------------------------------------------------------------------------\u001b[0m",
      "\u001b[1;31mAttributeError\u001b[0m                            Traceback (most recent call last)",
      "Cell \u001b[1;32mIn[28], line 1\u001b[0m\n\u001b[1;32m----> 1\u001b[0m \u001b[43mobj1\u001b[49m\u001b[38;5;241;43m.\u001b[39;49m\u001b[43mFaculty_name\u001b[49m\n",
      "\u001b[1;31mAttributeError\u001b[0m: 'Faculty' object has no attribute 'Faculty_name'"
     ]
    }
   ],
   "source": [
    "obj1.Faculty_name"
   ]
  },
  {
   "cell_type": "code",
   "execution_count": 18,
   "metadata": {},
   "outputs": [],
   "source": [
    "class Student:\n",
    "    # class variable\n",
    "    college_name=\"IET\"\n",
    "    def __init__(self,name,branch,ls_of_subject):\n",
    "        # instances variable\n",
    "        self.student_name=name\n",
    "        self.branch=branch\n",
    "        self.subject=ls_of_subject\n",
    "        # instances method,class method,static method\n",
    "    def display(self):\n",
    "        print(\"my name is:\",self.student_name)\n",
    "        print(\"MY branch is:\",self.branch)\n",
    "        print(\"My subject is:\",self.subject)\n",
    "        print(self.college_name)\n",
    "\n",
    "    @classmethod #write this to make class method #decorator\n",
    "    def display2(cls):\n",
    "        print(\"My college name:\",cls.college_name) #we cannot use college_name because it cannot be call\n",
    "\n",
    "    #static method\n",
    "    @staticmethod\n",
    "    def display():\n",
    "        pass\n"
   ]
  },
  {
   "cell_type": "code",
   "execution_count": 19,
   "metadata": {},
   "outputs": [],
   "source": [
    "obj =Student(name=\"radha\",branch=\"cse\",ls_of_subject=[\"physics\",\"chemistry\",\"hindi\"])"
   ]
  },
  {
   "cell_type": "code",
   "execution_count": 16,
   "metadata": {},
   "outputs": [
    {
     "name": "stdout",
     "output_type": "stream",
     "text": [
      "my name is: radha\n",
      "MY branch is: cse\n",
      "My subject is: ['physics', 'chemistry', 'hindi']\n",
      "IET\n"
     ]
    }
   ],
   "source": [
    "obj.display()\n",
    "# Student display"
   ]
  },
  {
   "cell_type": "code",
   "execution_count": 20,
   "metadata": {},
   "outputs": [
    {
     "name": "stdout",
     "output_type": "stream",
     "text": [
      "My college name: IET\n"
     ]
    }
   ],
   "source": [
    "obj.display2() #using instance "
   ]
  },
  {
   "cell_type": "code",
   "execution_count": 21,
   "metadata": {},
   "outputs": [
    {
     "name": "stdout",
     "output_type": "stream",
     "text": [
      "My college name: IET\n"
     ]
    }
   ],
   "source": [
    "Student.display2() #using class name we call class variable"
   ]
  },
  {
   "cell_type": "code",
   "execution_count": 23,
   "metadata": {},
   "outputs": [],
   "source": [
    "### INHERITANCE.....\n",
    "#OOPS\n",
    "#inheritance\n",
    "#polymorphism\n",
    "#abstraction\n",
    "#encapsulation\n"
   ]
  },
  {
   "cell_type": "code",
   "execution_count": 25,
   "metadata": {},
   "outputs": [],
   "source": [
    "## SINGLE INHERITANCE without construtor.......\n",
    "class Faculty:\n",
    "    college_name=\"GWECA\"\n",
    "    total_stuff=200\n",
    "class Student(Faculty): # we have inherit the faculty class from student class\n",
    "    total_student=5000\n",
    "    branch =\"cse\""
   ]
  },
  {
   "cell_type": "code",
   "execution_count": 28,
   "metadata": {},
   "outputs": [
    {
     "data": {
      "text/plain": [
       "'GWECA'"
      ]
     },
     "execution_count": 28,
     "metadata": {},
     "output_type": "execute_result"
    }
   ],
   "source": [
    "Faculty_obj =Faculty()\n",
    "Faculty_obj.college_name"
   ]
  },
  {
   "cell_type": "code",
   "execution_count": 27,
   "metadata": {},
   "outputs": [
    {
     "data": {
      "text/plain": [
       "200"
      ]
     },
     "execution_count": 27,
     "metadata": {},
     "output_type": "execute_result"
    }
   ],
   "source": [
    "Student_obj=Student()\n",
    "Student_obj.total_stuff"
   ]
  },
  {
   "cell_type": "code",
   "execution_count": 68,
   "metadata": {},
   "outputs": [],
   "source": [
    "#SINGLE INHERITANCE with construtor\n",
    "class Father:\n",
    "    #constructor\n",
    "    def __init__(self,Father_name,age):\n",
    "        # instances variable\n",
    "        self.Father_name=Father_name\n",
    "        self.Father_age=age\n",
    "        print(\"father constructor\")\n",
    "    def father_hii(self):\n",
    "        print(\"my name is:\",self.Father_name)\n",
    "        print(\"AGE is:\",self.Father_age)\n",
    "        \n",
    "class Son(Father):\n",
    "    def __init__(self,name,son_age,Father_name,Father_age):\n",
    "        self.son_name=name\n",
    "        self.son_age=son_age\n",
    "        super().__init__(Father_name,Father_age)  #super class constructor\n",
    "        print(\"Son constructor\")\n",
    "    def Son_hii(self):\n",
    "        print(\"son_name:\",self.son_name)\n",
    "        print(\"son age:\",self.son_age)\n"
   ]
  },
  {
   "cell_type": "code",
   "execution_count": 53,
   "metadata": {},
   "outputs": [],
   "source": [
    "father_obj =Father(name=\"anand\",age=50)"
   ]
  },
  {
   "cell_type": "code",
   "execution_count": 46,
   "metadata": {},
   "outputs": [
    {
     "data": {
      "text/plain": [
       "50"
      ]
     },
     "execution_count": 46,
     "metadata": {},
     "output_type": "execute_result"
    }
   ],
   "source": [
    "father_obj.Father_age"
   ]
  },
  {
   "cell_type": "code",
   "execution_count": 67,
   "metadata": {},
   "outputs": [
    {
     "ename": "TypeError",
     "evalue": "Son.__init__() missing 2 required positional arguments: 'Father_name' and 'Father_age'",
     "output_type": "error",
     "traceback": [
      "\u001b[1;31m---------------------------------------------------------------------------\u001b[0m",
      "\u001b[1;31mTypeError\u001b[0m                                 Traceback (most recent call last)",
      "Cell \u001b[1;32mIn[67], line 1\u001b[0m\n\u001b[1;32m----> 1\u001b[0m son_obj \u001b[38;5;241m=\u001b[39m\u001b[43mSon\u001b[49m\u001b[43m(\u001b[49m\u001b[43mname\u001b[49m\u001b[38;5;241;43m=\u001b[39;49m\u001b[38;5;124;43m\"\u001b[39;49m\u001b[38;5;124;43msuraj\u001b[39;49m\u001b[38;5;124;43m\"\u001b[39;49m\u001b[43m,\u001b[49m\u001b[43mson_age\u001b[49m\u001b[38;5;241;43m=\u001b[39;49m\u001b[38;5;241;43m6\u001b[39;49m\u001b[43m)\u001b[49m\n\u001b[0;32m      2\u001b[0m son_obj\u001b[38;5;241m.\u001b[39mSon_hii()\n",
      "\u001b[1;31mTypeError\u001b[0m: Son.__init__() missing 2 required positional arguments: 'Father_name' and 'Father_age'"
     ]
    }
   ],
   "source": [
    "son_obj =Son(name=\"suraj\",son_age=6)\n",
    "son_obj.Son_hii()"
   ]
  },
  {
   "cell_type": "code",
   "execution_count": 59,
   "metadata": {},
   "outputs": [
    {
     "ename": "AttributeError",
     "evalue": "'Son' object has no attribute 'Father_age'",
     "output_type": "error",
     "traceback": [
      "\u001b[1;31m---------------------------------------------------------------------------\u001b[0m",
      "\u001b[1;31mAttributeError\u001b[0m                            Traceback (most recent call last)",
      "Cell \u001b[1;32mIn[59], line 1\u001b[0m\n\u001b[1;32m----> 1\u001b[0m \u001b[43mson_obj\u001b[49m\u001b[38;5;241;43m.\u001b[39;49m\u001b[43mFather_age\u001b[49m\n",
      "\u001b[1;31mAttributeError\u001b[0m: 'Son' object has no attribute 'Father_age'"
     ]
    }
   ],
   "source": [
    "son_obj.Father_age"
   ]
  },
  {
   "cell_type": "code",
   "execution_count": 70,
   "metadata": {},
   "outputs": [
    {
     "name": "stdout",
     "output_type": "stream",
     "text": [
      "father constructor\n",
      "Son constructor\n",
      "son_name: arunesh\n",
      "son age: 5\n",
      "my name is: raju\n",
      "AGE is: 24\n"
     ]
    }
   ],
   "source": [
    "son_obj =Son(name=\"arunesh\",son_age=5,Father_name=\"raju\",Father_age=24)\n",
    "son_obj.Son_hii()\n",
    "son_obj.father_hii()\n"
   ]
  },
  {
   "cell_type": "code",
   "execution_count": 77,
   "metadata": {},
   "outputs": [],
   "source": [
    "class Manager:\n",
    "    def __init__(self,manager_age,manager_name):\n",
    "        self.Manager_name =manager_name\n",
    "        self.Manager_age=manager_age\n",
    "        def Manager__hi(self):\n",
    "            print(\"Manager name:\",self.manager_name)\n",
    "            print(\"Manager age\",self.manager_age)\n",
    "class Empolyee(Manager):\n",
    "    def __init__(self,empolyee_age,empolyee_name,Manager_name,Manager_age):\n",
    "        super().__init__(Manager_name,Manager_age) \n",
    "        self.empolyee_name =empolyee_name\n",
    "        self.empolyee_age=empolyee_age\n",
    "        def empolyee__hi(self):\n",
    "            print(\"empolyee name:\",self.empolyee_name)\n",
    "            print(\"empolyee age\",self.empolyee_age)"
   ]
  },
  {
   "cell_type": "code",
   "execution_count": null,
   "metadata": {},
   "outputs": [],
   "source": [
    "Empolyee_obj =Empolyee(name=\"arunesh\",Empolyee_age=5,Manager_name=\"raju\",Manager_age=24)\n",
    "Empolyee_obj.empolyee_hi()\n",
    "Empolyee_obj.Manager_hi()"
   ]
  }
 ],
 "metadata": {
  "kernelspec": {
   "display_name": "Python 3",
   "language": "python",
   "name": "python3"
  },
  "language_info": {
   "codemirror_mode": {
    "name": "ipython",
    "version": 3
   },
   "file_extension": ".py",
   "mimetype": "text/x-python",
   "name": "python",
   "nbconvert_exporter": "python",
   "pygments_lexer": "ipython3",
   "version": "3.12.2"
  }
 },
 "nbformat": 4,
 "nbformat_minor": 2
}
